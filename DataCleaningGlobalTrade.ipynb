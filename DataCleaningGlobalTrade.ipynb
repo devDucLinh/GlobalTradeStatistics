{
 "cells": [
  {
   "cell_type": "code",
   "execution_count": 1,
   "metadata": {},
   "outputs": [],
   "source": [
    "# Khai báo các thư viện\n",
    "import pandas as pd\n",
    "import numpy as np"
   ]
  },
  {
   "cell_type": "code",
   "execution_count": 2,
   "metadata": {},
   "outputs": [],
   "source": [
    "# tải tập dữ liệu\n",
    "business = pd.read_csv(\"Raw Data.csv\")"
   ]
  },
  {
   "cell_type": "code",
   "execution_count": 3,
   "metadata": {},
   "outputs": [
    {
     "data": {
      "text/html": [
       "<div>\n",
       "<style scoped>\n",
       "    .dataframe tbody tr th:only-of-type {\n",
       "        vertical-align: middle;\n",
       "    }\n",
       "\n",
       "    .dataframe tbody tr th {\n",
       "        vertical-align: top;\n",
       "    }\n",
       "\n",
       "    .dataframe thead th {\n",
       "        text-align: right;\n",
       "    }\n",
       "</style>\n",
       "<table border=\"1\" class=\"dataframe\">\n",
       "  <thead>\n",
       "    <tr style=\"text-align: right;\">\n",
       "      <th></th>\n",
       "      <th>country_or_area</th>\n",
       "      <th>year</th>\n",
       "      <th>comm_code</th>\n",
       "      <th>commodity</th>\n",
       "      <th>flow</th>\n",
       "      <th>trade_usd</th>\n",
       "      <th>weight_kg</th>\n",
       "      <th>quantity_name</th>\n",
       "      <th>quantity</th>\n",
       "      <th>category</th>\n",
       "    </tr>\n",
       "  </thead>\n",
       "  <tbody>\n",
       "    <tr>\n",
       "      <th>0</th>\n",
       "      <td>Australia</td>\n",
       "      <td>2016</td>\n",
       "      <td>10111</td>\n",
       "      <td>Horses, live pure-bred breeding</td>\n",
       "      <td>Export</td>\n",
       "      <td>128577553</td>\n",
       "      <td>900450.0</td>\n",
       "      <td>Number of items</td>\n",
       "      <td>1882.0</td>\n",
       "      <td>01_live_animals</td>\n",
       "    </tr>\n",
       "    <tr>\n",
       "      <th>1</th>\n",
       "      <td>Australia</td>\n",
       "      <td>2016</td>\n",
       "      <td>10119</td>\n",
       "      <td>Horses, live except pure-bred breeding</td>\n",
       "      <td>Re-Import</td>\n",
       "      <td>4928989</td>\n",
       "      <td>47240.0</td>\n",
       "      <td>Number of items</td>\n",
       "      <td>104.0</td>\n",
       "      <td>01_live_animals</td>\n",
       "    </tr>\n",
       "    <tr>\n",
       "      <th>2</th>\n",
       "      <td>Australia</td>\n",
       "      <td>2016</td>\n",
       "      <td>10119</td>\n",
       "      <td>Horses, live except pure-bred breeding</td>\n",
       "      <td>Export</td>\n",
       "      <td>11812782</td>\n",
       "      <td>153587.0</td>\n",
       "      <td>Number of items</td>\n",
       "      <td>276.0</td>\n",
       "      <td>01_live_animals</td>\n",
       "    </tr>\n",
       "    <tr>\n",
       "      <th>3</th>\n",
       "      <td>Australia</td>\n",
       "      <td>2016</td>\n",
       "      <td>10119</td>\n",
       "      <td>Horses, live except pure-bred breeding</td>\n",
       "      <td>Import</td>\n",
       "      <td>90430302</td>\n",
       "      <td>1082493.0</td>\n",
       "      <td>Number of items</td>\n",
       "      <td>2073.0</td>\n",
       "      <td>01_live_animals</td>\n",
       "    </tr>\n",
       "    <tr>\n",
       "      <th>4</th>\n",
       "      <td>Australia</td>\n",
       "      <td>2016</td>\n",
       "      <td>10120</td>\n",
       "      <td>Asses, mules and hinnies, live</td>\n",
       "      <td>Export</td>\n",
       "      <td>58473</td>\n",
       "      <td>5805.0</td>\n",
       "      <td>Number of items</td>\n",
       "      <td>416.0</td>\n",
       "      <td>01_live_animals</td>\n",
       "    </tr>\n",
       "  </tbody>\n",
       "</table>\n",
       "</div>"
      ],
      "text/plain": [
       "  country_or_area  year  comm_code                               commodity  \\\n",
       "0       Australia  2016      10111         Horses, live pure-bred breeding   \n",
       "1       Australia  2016      10119  Horses, live except pure-bred breeding   \n",
       "2       Australia  2016      10119  Horses, live except pure-bred breeding   \n",
       "3       Australia  2016      10119  Horses, live except pure-bred breeding   \n",
       "4       Australia  2016      10120          Asses, mules and hinnies, live   \n",
       "\n",
       "        flow  trade_usd  weight_kg    quantity_name  quantity         category  \n",
       "0     Export  128577553   900450.0  Number of items    1882.0  01_live_animals  \n",
       "1  Re-Import    4928989    47240.0  Number of items     104.0  01_live_animals  \n",
       "2     Export   11812782   153587.0  Number of items     276.0  01_live_animals  \n",
       "3     Import   90430302  1082493.0  Number of items    2073.0  01_live_animals  \n",
       "4     Export      58473     5805.0  Number of items     416.0  01_live_animals  "
      ]
     },
     "execution_count": 3,
     "metadata": {},
     "output_type": "execute_result"
    }
   ],
   "source": [
    "business.head()"
   ]
  },
  {
   "cell_type": "code",
   "execution_count": 4,
   "metadata": {},
   "outputs": [],
   "source": [
    "# đổi tên các cột để dễ hiểu hơn\n",
    "business.columns = [\"Country\", \"Year\", \"Commoditycode\", \"Commodity\", \"Flow\",\n",
    "                    \"Dollars\", \"Weight\", \"Quantityname\", \"Quantity\", \"Category\"]"
   ]
  },
  {
   "cell_type": "code",
   "execution_count": 5,
   "metadata": {},
   "outputs": [
    {
     "name": "stdout",
     "output_type": "stream",
     "text": [
      "<class 'pandas.core.frame.DataFrame'>\n",
      "RangeIndex: 59090 entries, 0 to 59089\n",
      "Data columns (total 10 columns):\n",
      " #   Column         Non-Null Count  Dtype  \n",
      "---  ------         --------------  -----  \n",
      " 0   Country        59090 non-null  object \n",
      " 1   Year           59090 non-null  int64  \n",
      " 2   Commoditycode  59090 non-null  int64  \n",
      " 3   Commodity      59090 non-null  object \n",
      " 4   Flow           59090 non-null  object \n",
      " 5   Dollars        59090 non-null  int64  \n",
      " 6   Weight         58375 non-null  float64\n",
      " 7   Quantityname   59090 non-null  object \n",
      " 8   Quantity       58385 non-null  float64\n",
      " 9   Category       59090 non-null  object \n",
      "dtypes: float64(2), int64(3), object(5)\n",
      "memory usage: 4.5+ MB\n"
     ]
    }
   ],
   "source": [
    "# kiểm tra cấu trúc dữ liệu\n",
    "business.info()"
   ]
  },
  {
   "cell_type": "code",
   "execution_count": 6,
   "metadata": {},
   "outputs": [
    {
     "data": {
      "text/plain": [
       "Country            0\n",
       "Year               0\n",
       "Commoditycode      0\n",
       "Commodity          0\n",
       "Flow               0\n",
       "Dollars            0\n",
       "Weight           715\n",
       "Quantityname       0\n",
       "Quantity         705\n",
       "Category           0\n",
       "dtype: int64"
      ]
     },
     "execution_count": 6,
     "metadata": {},
     "output_type": "execute_result"
    }
   ],
   "source": [
    "# hiển thị các giá trị null\n",
    "business.isnull().sum()"
   ]
  },
  {
   "cell_type": "code",
   "execution_count": 7,
   "metadata": {},
   "outputs": [
    {
     "name": "stdout",
     "output_type": "stream",
     "text": [
      "0    56271\n",
      "1     2819\n",
      "Name: Missing, dtype: int64\n"
     ]
    }
   ],
   "source": [
    "# Gán giá trị 1 cho các trường hợp Weight và Quantity có giá trị bằng 0 hoặc null\n",
    "business[\"Missing\"] = np.where((business[\"Weight\"] == 0) | (business[\"Weight\"].isnull())\n",
    "                               | (business[\"Quantity\"] == 0) | (business[\"Quantity\"].isnull()), 1, 0)\n",
    "print(business[\"Missing\"].value_counts())"
   ]
  },
  {
   "attachments": {},
   "cell_type": "markdown",
   "metadata": {},
   "source": [
    "Có 2819 trường hợp, trong đó Weight và Quantity có giá trị bằng 0 hoặc NA"
   ]
  },
  {
   "cell_type": "code",
   "execution_count": 8,
   "metadata": {},
   "outputs": [],
   "source": [
    "# Drop các trường hợp có giá trị bằng 1\n",
    "business = business[business[\"Missing\"] == 0]"
   ]
  },
  {
   "cell_type": "code",
   "execution_count": 9,
   "metadata": {},
   "outputs": [],
   "source": [
    "# Xóa cột Missing\n",
    "business.drop(\"Missing\", axis=1, inplace=True)"
   ]
  },
  {
   "cell_type": "code",
   "execution_count": 10,
   "metadata": {},
   "outputs": [],
   "source": [
    "#Lưu dữ liệu\n",
    "business.to_csv(\"Cleaned Data.csv\", index=False)"
   ]
  }
 ],
 "metadata": {
  "kernelspec": {
   "display_name": "envAuto",
   "language": "python",
   "name": "python3"
  },
  "language_info": {
   "codemirror_mode": {
    "name": "ipython",
    "version": 3
   },
   "file_extension": ".py",
   "mimetype": "text/x-python",
   "name": "python",
   "nbconvert_exporter": "python",
   "pygments_lexer": "ipython3",
   "version": "3.10.9"
  },
  "orig_nbformat": 4
 },
 "nbformat": 4,
 "nbformat_minor": 2
}
